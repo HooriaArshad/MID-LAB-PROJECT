{
  "nbformat": 4,
  "nbformat_minor": 0,
  "metadata": {
    "colab": {
      "provenance": [],
      "authorship_tag": "ABX9TyMJOVMmQ41cYba+T4hu5pm0",
      "include_colab_link": true
    },
    "kernelspec": {
      "name": "python3",
      "display_name": "Python 3"
    },
    "language_info": {
      "name": "python"
    }
  },
  "cells": [
    {
      "cell_type": "markdown",
      "metadata": {
        "id": "view-in-github",
        "colab_type": "text"
      },
      "source": [
        "<a href=\"https://colab.research.google.com/github/HooriaArshad/MID-LAB-PROJECT/blob/main/MID_LAB_PROJECT.ipynb\" target=\"_parent\"><img src=\"https://colab.research.google.com/assets/colab-badge.svg\" alt=\"Open In Colab\"/></a>"
      ]
    },
    {
      "cell_type": "code",
      "execution_count": null,
      "metadata": {
        "id": "tX8srU98uWYw",
        "colab": {
          "base_uri": "https://localhost:8080/"
        },
        "outputId": "0afbbce9-d342-4772-8f83-e106c1085efc"
      },
      "outputs": [
        {
          "output_type": "stream",
          "name": "stdout",
          "text": [
            "enter your Name :HOOR\n",
            "Enter your Qualification :FSC\n",
            "Enter your Field :MEDICAL\n",
            "Enter your Course :AI\n",
            "Hello, my name is HOOR , i have completed FSC in MEDICAL!i am study in AI at GIAIC.\n"
          ]
        }
      ],
      "source": [
        "# MID LAB PROJECT\n",
        "\n",
        "Name = input(\"enter your Name :\")\n",
        "Qualification = input(\"Enter your Qualification :\")\n",
        "Field = input(\"Enter your Field :\")\n",
        "Course = input(\"Enter your Course :\")\n",
        "\n",
        "\n",
        "\n",
        "story = f\"Hello, my name is {Name} , i have completed {Qualification} in {Field}!i am study in {Course} at GIAIC.\"\n",
        "print(story)"
      ]
    }
  ]
}